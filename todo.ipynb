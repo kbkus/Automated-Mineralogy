{
 "metadata": {
  "language_info": {
   "codemirror_mode": {
    "name": "ipython",
    "version": 3
   },
   "file_extension": ".py",
   "mimetype": "text/x-python",
   "name": "python",
   "nbconvert_exporter": "python",
   "pygments_lexer": "ipython3",
   "version": 3
  },
  "orig_nbformat": 2
 },
 "nbformat": 4,
 "nbformat_minor": 2,
 "cells": [
  {
   "source": [
    "# To do list:\n",
    "- [X] create config.py file to have model parameters\n",
    "- [X] create models.py file to load model instead of re-writing in each jupyter notebook\n",
    "- [X] change sampling method to get rid of duplicate rotations\n",
    "- [ ] save previously trained models \n",
    "- [X] clean out folders and re-save training data\n",
    "    - [X] re-save images at 150x150 px size\n",
    "    - [X] save both ppl and xpl images\n",
    "    - [X] filter out images that are mostly labeled with 0s\n",
    "    - [ ] save rgb (6 channels) combined as column in df (save to pickle)\n",
    "- [ ] get 3 channel gradient boostin model(s) working\n",
    "    - [ ] PPL version\n",
    "    - [ ] XPL version\n",
    "- [ ] get 6 channel model of any kind working"
   ],
   "cell_type": "markdown",
   "metadata": {}
  },
  {
   "cell_type": "code",
   "execution_count": null,
   "metadata": {},
   "outputs": [],
   "source": []
  }
 ]
}